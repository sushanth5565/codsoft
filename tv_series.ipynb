{
  "nbformat": 4,
  "nbformat_minor": 0,
  "metadata": {
    "colab": {
      "provenance": []
    },
    "kernelspec": {
      "name": "python3",
      "display_name": "Python 3"
    },
    "language_info": {
      "name": "python"
    }
  },
  "cells": [
    {
      "cell_type": "code",
      "execution_count": 1,
      "metadata": {
        "colab": {
          "base_uri": "https://localhost:8080/"
        },
        "id": "JXl1VYIfzRW0",
        "outputId": "6aa9cf38-a6c1-478f-de2d-14470986bf31"
      },
      "outputs": [
        {
          "output_type": "stream",
          "name": "stdout",
          "text": [
            "Enter your preference (e.g., action, comedy, drama, sci-fi): drama\n",
            "Top 3 TV series recommendations:\n",
            "1.The Crown 2.This Is Us 3.The Handmaid's Tale\n"
          ]
        }
      ],
      "source": [
        "tv_series_data = [\n",
        "    {\n",
        "        'Title': '1.Game of Thrones 2.Breaking Bad 3.Stranger Things',\n",
        "        'Genre': 'action',\n",
        "        'Description': 'Epic fantasy series'\n",
        "    },\n",
        "    {\n",
        "        'Title': '1.Friends 2.The Office 3.Parks and Recreation',\n",
        "        'Genre': 'comedy',\n",
        "        'Description': 'Hilarious sitcoms'\n",
        "    },\n",
        "    {\n",
        "        'Title': '1.Black Mirror 2.Westworld 3.The Expanse',\n",
        "        'Genre': 'sci-fi',\n",
        "        'Description': 'Mind-bending science fiction'\n",
        "    },\n",
        "    {\n",
        "        'Title': '1.The Crown 2.This Is Us 3.The Handmaid\\'s Tale',\n",
        "        'Genre': 'drama',\n",
        "        'Description': 'Compelling drama series'\n",
        "    }\n",
        "]\n",
        "\n",
        "def cosine_similarity(str1, str2):\n",
        "    words1 = str1.split()\n",
        "    words2 = str2.split()\n",
        "\n",
        "    word_set = set(words1).union(set(words2))\n",
        "\n",
        "    dot_product = sum([words1.count(word) * words2.count(word) for word in word_set])\n",
        "    magnitude1 = sum([words1.count(word) ** 2 for word in word_set]) ** 0.5\n",
        "    magnitude2 = sum([words2.count(word) ** 2 for word in word_set]) ** 0.5\n",
        "\n",
        "    if magnitude1 == 0 or magnitude2 == 0:\n",
        "        return 0\n",
        "    else:\n",
        "        return dot_product / (magnitude1 * magnitude2)\n",
        "\n",
        "user_preference = input(\"Enter your preference (e.g., action, comedy, drama, sci-fi): \")\n",
        "\n",
        "similarities = []\n",
        "for item in tv_series_data:\n",
        "    if item['Genre'] == user_preference:\n",
        "        similarity_score = cosine_similarity(item['Description'], user_preference)\n",
        "        similarities.append((item['Title'], similarity_score))\n",
        "\n",
        "similarities.sort(key=lambda x: x[1], reverse=True)\n",
        "\n",
        "top_recommendations = similarities[0:3] if len(similarities) >= 3 else similarities\n",
        "\n",
        "if not top_recommendations:\n",
        "    print(\"No TV series recommendations found for your preference.\")\n",
        "else:\n",
        "    print(\"Top 3 TV series recommendations:\")\n",
        "    for title, similarity in top_recommendations:\n",
        "        print(title)"
      ]
    }
  ]
}