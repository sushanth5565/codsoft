{
  "nbformat": 4,
  "nbformat_minor": 0,
  "metadata": {
    "colab": {
      "provenance": []
    },
    "kernelspec": {
      "name": "python3",
      "display_name": "Python 3"
    },
    "language_info": {
      "name": "python"
    }
  },
  "cells": [
    {
      "cell_type": "code",
      "execution_count": null,
      "metadata": {
        "colab": {
          "base_uri": "https://localhost:8080/"
        },
        "id": "DVDRl-xOAPPw",
        "outputId": "2687e069-5e4f-4f4b-f42e-9fc6b15c71bd"
      },
      "outputs": [
        {
          "output_type": "stream",
          "name": "stdout",
          "text": [
            "Chatbot: Hi there! I'm ChatBot. Feel free to ask me questions.\n",
            "You: hello\n",
            "Chatbot: I'm sorry, I don't have an answer for that.\n",
            "You: what is your name\n",
            "Chatbot: I am ChatBot, here to assist you!\n",
            "You: how are you\n",
            "Chatbot: I'm doing fine, thanks for asking.\n"
          ]
        }
      ],
      "source": [
        "import random\n",
        "\n",
        "def chatbot_response(user_input):\n",
        "    responses = {\n",
        "        \"what is your name\": [\n",
        "            \"I am ChatBot, here to assist you!\",\n",
        "            \"You can call me ChatBot.\",\n",
        "            \"Hi, I'm ChatBot!\"\n",
        "        ],\n",
        "        \"how are you\": [\n",
        "            \"I'm just a program, but I'm functioning well!\",\n",
        "            \"I'm doing fine, thanks for asking.\",\n",
        "            \"I don't have feelings, but I'm here to help!\"\n",
        "        ],\n",
        "        \"what is the capital of France\": [\n",
        "            \"The capital of France is Paris.\",\n",
        "            \"Paris is the capital of France.\",\n",
        "            \"France's capital is Paris.\"\n",
        "        ],\n",
        "        \"tell me a joke\": [\n",
        "            \"Sure, here's one: Why don't scientists trust atoms? Because they make up everything!\",\n",
        "            \"Here's a joke: What do you get when you cross a snowman and a vampire? Frostbite!\",\n",
        "            \"Why did the computer catch a cold? Because it had a bad byte!\"\n",
        "        ],\n",
        "        \"how can I contact support\": [\n",
        "            \"To contact support, please visit our website or call our helpline at 123-456-7890.\",\n",
        "            \"You can reach our support team by visiting our website or calling 123-456-7890.\",\n",
        "            \"For support, you can visit our website or dial 123-456-7890.\"\n",
        "        ]\n",
        "    }\n",
        "\n",
        "    response = responses.get(user_input.lower())\n",
        "    if response:\n",
        "        return random.choice(response)\n",
        "    else:\n",
        "        return \"I'm sorry, I don't have an answer for that.\"\n",
        "\n",
        "print(\"Chatbot: Hi there! I'm ChatBot. Feel free to ask me questions.\")\n",
        "\n",
        "while True:\n",
        "    user_input = input(\"You: \")\n",
        "    if user_input.lower() == \"exit\":\n",
        "        print(\"Chatbot: Goodbye!\")\n",
        "        break\n",
        "    response = chatbot_response(user_input)\n",
        "    print(\"Chatbot:\", response)"
      ]
    }
  ]
}